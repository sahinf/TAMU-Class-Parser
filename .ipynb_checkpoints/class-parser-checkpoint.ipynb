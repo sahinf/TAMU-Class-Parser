{
 "cells": [
  {
   "cell_type": "code",
   "execution_count": 1,
   "metadata": {},
   "outputs": [],
   "source": [
    "# Furkan Sahin\n",
    "#\n",
    "# Simple Python code to parse the .json file\n",
    "# manually obtained by inspecting a Class Search\n",
    "# page on Howdy. Once you see all the classes you\n",
    "# would like to parse through (1xx-3xx), go to inspect\n",
    "# element and then into 'Network'. Then filter for\n",
    "# 'XHR' and you will have the .json available for \n",
    "# downloading"
   ]
  },
  {
   "cell_type": "code",
   "execution_count": 2,
   "metadata": {},
   "outputs": [],
   "source": [
    "import json\n",
    "import pandas as pd\n",
    "\n",
    "# Read file\n",
    "jsonFile = open('searchResults.json', 'r')\n",
    "jsonData = jsonFile.read()"
   ]
  },
  {
   "cell_type": "code",
   "execution_count": 3,
   "metadata": {},
   "outputs": [],
   "source": [
    "# Parse the data now\n",
    "jsonObj = json.loads(jsonData)\n",
    "dataObj = jsonObj['data']"
   ]
  },
  {
   "cell_type": "code",
   "execution_count": 4,
   "metadata": {
    "scrolled": true
   },
   "outputs": [],
   "source": [
    "# Open file for writing output\n",
    "outputFile = open(\"ClassEnrollment.csv\", \"w\")"
   ]
  },
  {
   "cell_type": "code",
   "execution_count": 5,
   "metadata": {},
   "outputs": [
    {
     "data": {
      "text/plain": [
       "83"
      ]
     },
     "execution_count": 5,
     "metadata": {},
     "output_type": "execute_result"
    }
   ],
   "source": [
    "# Begin by writing to the output .csv file the HEADERS\n",
    "outputFile.write(\"Course ID,Sec,Lab Days,Lab Time,Lec Days,Lec Time,Cap,Size,Rem,Instructor,Lab Room\\n\" )"
   ]
  },
  {
   "cell_type": "code",
   "execution_count": 6,
   "metadata": {},
   "outputs": [],
   "source": [
    "# Function to fill days for LEC, LAB, etc...\n",
    "# 'x' is the json object 'meetingTime'\n",
    "def add_days(x):\n",
    "    days = \"\"\n",
    "    days += \"M\" if x[\"monday\"] else \"\"\n",
    "    days += \"T\" if x[\"tuesday\"] else \"\"\n",
    "    days += \"W\" if x[\"wednesday\"] else \"\"\n",
    "    days += \"R\" if x[\"thursday\"] else \"\"\n",
    "    days += \"F\" if x[\"friday\"] else \"\"\n",
    "    days += \"S\" if x[\"saturday\"] else \"\"\n",
    "    days += \"U\" if x[\"sunday\"] else \"\"\n",
    "    days += \",\"\n",
    "    \n",
    "    if x[\"building\"] == \"ONLINE\":\n",
    "        days += \"ONLINE\"\n",
    "    elif x[\"beginTime\"] == None: # Handle online labs\n",
    "        days += \"N/A\"\n",
    "    else:\n",
    "        days += x[\"beginTime\"] + \" - \" + x[\"endTime\"]\n",
    "    return days"
   ]
  },
  {
   "cell_type": "code",
   "execution_count": 7,
   "metadata": {},
   "outputs": [],
   "source": [
    "# Quick function to add lab days and times\n",
    "def add_lab(meetingsFaculty):\n",
    "    val = \"\"\n",
    "    for facultyObject in meetingsFaculty:\n",
    "        x = facultyObject[\"meetingTime\"]\n",
    "        if x[\"meetingType\"] == \"LAB\":\n",
    "            val += add_days(x)\n",
    "            return val\n",
    "    val += \",\"\n",
    "    return val"
   ]
  },
  {
   "cell_type": "code",
   "execution_count": 8,
   "metadata": {},
   "outputs": [],
   "source": [
    "# Quick function to add lecture days and times\n",
    "def add_lec(meetingsFaculty):\n",
    "    val = \"\"\n",
    "    for facultyObject in meetingsFaculty:\n",
    "        x = facultyObject[\"meetingTime\"]\n",
    "        if x[\"meetingType\"] == \"LEC\":\n",
    "            val += add_days(x)\n",
    "            return val\n",
    "    val += \",\"\n",
    "    return val"
   ]
  },
  {
   "cell_type": "code",
   "execution_count": 9,
   "metadata": {},
   "outputs": [],
   "source": [
    "# Function to fetch room number for labs because some classes do not have room number :)\n",
    "def add_room(meetingsFaculty):\n",
    "    room = \"\"\n",
    "    for facultyObject in meetingsFaculty:\n",
    "        x = facultyObject[\"meetingTime\"]\n",
    "        if x[\"meetingType\"] == \"LAB\":\n",
    "            room += x[\"building\"] + \" \" + x[\"room\"] + \",\"\n",
    "            return room;\n",
    "    room += \"No Room\"\n",
    "    return room\n",
    "            "
   ]
  },
  {
   "cell_type": "code",
   "execution_count": 10,
   "metadata": {},
   "outputs": [],
   "source": [
    "# Function to fetch instructor because some classes do not list a professor :)\n",
    "def add_prof(faculty):\n",
    "    for facultyObject in faculty:\n",
    "        prof = facultyObject[\"displayName\"]\n",
    "        return prof;"
   ]
  },
  {
   "cell_type": "code",
   "execution_count": 11,
   "metadata": {},
   "outputs": [
    {
     "name": "stdout",
     "output_type": "stream",
     "text": [
      "110,500,F,0820 - 1000,MWF,1350 - 1440,21,21,0,Ki Hwan K. Yum,ZACH 582,\n",
      "110,501,F,1020 - 1200,MWF,1350 - 1440,21,21,0,Ki Hwan K. Yum,ZACH 582,\n",
      "110,502,TR,0935 - 1025,MWF,1350 - 1440,21,21,0,Ki Hwan K. Yum,ZACH 584,\n",
      "110,503,TR,1135 - 1225,MWF,1350 - 1440,21,21,0,Ki Hwan K. Yum,ZACH 584,\n",
      "110,504,TR,0935 - 1025,MWF,1500 - 1550,21,17,4,Ki Hwan K. Yum,ZACH 596,\n",
      "110,505,TR,1135 - 1225,MWF,1500 - 1550,21,19,2,Ki Hwan K. Yum,ZACH 596,\n",
      "110,506,F,0820 - 1000,MWF,1500 - 1550,21,9,12,Ki Hwan K. Yum,ZACH 584,\n",
      "110,507,F,1020 - 1200,MWF,1500 - 1550,21,21,0,Ki Hwan K. Yum,ZACH 584,\n",
      "111,501,MW,1350 - 1440,MWF,0910 - 1000,21,21,0,Robert H. Lightfoot,ZACH 582,\n",
      "111,502,MW,1500 - 1550,MWF,0910 - 1000,21,21,0,Robert H. Lightfoot,ZACH 582,\n",
      "111,503,MW,1350 - 1440,MWF,0910 - 1000,21,21,0,Robert H. Lightfoot,ZACH 584,\n",
      "111,504,MW,1500 - 1550,MWF,0910 - 1000,21,18,3,Robert H. Lightfoot,ZACH 584,\n",
      "111,505,MW,1610 - 1700,MWF,1020 - 1110,21,21,0,Robert H. Lightfoot,ZACH 582,\n",
      "111,506,MW,1745 - 1835,MWF,1020 - 1110,21,21,0,Robert H. Lightfoot,ZACH 582,\n",
      "111,507,MW,1610 - 1700,MWF,1020 - 1110,21,21,0,Robert H. Lightfoot,ZACH 360,\n",
      "111,508,MW,1745 - 1835,MWF,1020 - 1110,21,21,0,Robert H. Lightfoot,ZACH 584,\n",
      "120,200,R,0825 - 0915,MWF,0800 - 0850,0,0,0,Martin Carlisle,ZACH 590,\n",
      "120,500,T,1555 - 1645,MWF,0910 - 1000,0,0,0,Philip C. Ritchey,ZACH 590,\n",
      "120,501,R,1555 - 1645,MWF,0910 - 1000,0,0,0,Philip C. Ritchey,ZACH 590,\n",
      "120,502,T,1730 - 1820,MWF,0910 - 1000,0,0,0,Philip C. Ritchey,ZACH 590,\n",
      "120,503,R,1730 - 1820,MWF,1020 - 1110,0,0,0,Philip C. Ritchey,ZACH 590,\n",
      "120,504,T,1840 - 1930,MWF,1020 - 1110,0,0,0,Philip C. Ritchey,ZACH 590,\n",
      "120,505,R,1840 - 1930,MWF,1020 - 1110,0,0,0,Philip C. Ritchey,ZACH 590,\n",
      "120,506,T,0825 - 0915,MWF,0910 - 1000,0,0,0,Martin Carlisle,ZACH 590,\n",
      "120,507,T,0935 - 1025,MWF,0910 - 1000,0,0,0,Martin Carlisle,ZACH 590,\n",
      "120,508,T,0935 - 1000,MWF,0910 - 1000,0,0,0,Martin Carlisle,ZACH 590,\n",
      "120,509,T,0825 - 0915,MWF,0800 - 0850,0,0,0,Timothy J. McGuire,ZACH 582,\n",
      "120,510,R,0825 - 0915,MWF,0800 - 0850,0,0,0,Timothy J. McGuire,ZACH 582,\n",
      "120,511,T,0935 - 1025,MWF,0800 - 0850,0,0,0,Timothy J. McGuire,ZACH 582,\n",
      "120,512,R,0935 - 1025,MWF,0800 - 0850,0,0,0,Timothy J. McGuire,ZACH 582,\n",
      "120,513,T,1135 - 1225,MWF,0910 - 1000,0,0,0,Timothy J. McGuire,ZACH 582,\n",
      "120,514,R,1135 - 1225,MWF,0910 - 1000,0,0,0,Timothy J. McGuire,ZACH 582,\n",
      "120,515,T,1245 - 1335,MWF,0910 - 1000,0,0,0,Timothy J. McGuire,ZACH 582,\n",
      "120,516,R,1245 - 1335,TR,0910 - 1000,0,0,0,Timothy J. McGuire,ZACH 582,\n"
     ]
    },
    {
     "ename": "TypeError",
     "evalue": "sequence item 7: expected str instance, NoneType found",
     "output_type": "error",
     "traceback": [
      "\u001b[1;31m---------------------------------------------------------------------------\u001b[0m",
      "\u001b[1;31mTypeError\u001b[0m                                 Traceback (most recent call last)",
      "\u001b[1;32m<ipython-input-11-1a48b46c9840>\u001b[0m in \u001b[0;36m<module>\u001b[1;34m\u001b[0m\n\u001b[0;32m     11\u001b[0m                         \u001b[1;33m,\u001b[0m\u001b[0mstr\u001b[0m\u001b[1;33m(\u001b[0m\u001b[0mclasses\u001b[0m\u001b[1;33m[\u001b[0m\u001b[1;34m\"seatsAvailable\"\u001b[0m\u001b[1;33m]\u001b[0m\u001b[1;33m)\u001b[0m\u001b[1;33m\u001b[0m\u001b[1;33m\u001b[0m\u001b[0m\n\u001b[0;32m     12\u001b[0m                         \u001b[1;33m,\u001b[0m\u001b[0madd_prof\u001b[0m\u001b[1;33m(\u001b[0m\u001b[0mclasses\u001b[0m\u001b[1;33m[\u001b[0m\u001b[1;34m\"faculty\"\u001b[0m\u001b[1;33m]\u001b[0m\u001b[1;33m)\u001b[0m\u001b[1;33m\u001b[0m\u001b[1;33m\u001b[0m\u001b[0m\n\u001b[1;32m---> 13\u001b[1;33m                         \u001b[1;33m,\u001b[0m\u001b[0madd_room\u001b[0m\u001b[1;33m(\u001b[0m\u001b[0mclasses\u001b[0m\u001b[1;33m[\u001b[0m\u001b[1;34m\"meetingsFaculty\"\u001b[0m\u001b[1;33m]\u001b[0m\u001b[1;33m)\u001b[0m\u001b[1;33m\u001b[0m\u001b[1;33m\u001b[0m\u001b[0m\n\u001b[0m\u001b[0;32m     14\u001b[0m                        ])\n\u001b[0;32m     15\u001b[0m     \u001b[0mprint\u001b[0m\u001b[1;33m(\u001b[0m\u001b[0mlineCSV\u001b[0m\u001b[1;33m)\u001b[0m\u001b[1;33m\u001b[0m\u001b[1;33m\u001b[0m\u001b[0m\n",
      "\u001b[1;31mTypeError\u001b[0m: sequence item 7: expected str instance, NoneType found"
     ]
    }
   ],
   "source": [
    "for classes in dataObj:\n",
    "#     print(classes.keys())\n",
    "#     lineCSV = classes[\"courseNumber\"]\n",
    "#     lineCSV += classes[\"sequenceNumber\"]\n",
    "    lineCSV = \",\".join([ classes[\"courseNumber\"]\n",
    "                        ,classes[\"sequenceNumber\"]\n",
    "                        ,add_lab(classes[\"meetingsFaculty\"])\n",
    "                        ,add_lec(classes[\"meetingsFaculty\"])\n",
    "                        ,str(classes[\"maximumEnrollment\"])\n",
    "                        ,str(classes[\"enrollment\"])\n",
    "                        ,str(classes[\"seatsAvailable\"])\n",
    "                        ,add_prof(classes[\"faculty\"])\n",
    "                        ,add_room(classes[\"meetingsFaculty\"])\n",
    "                       ])\n",
    "    print(lineCSV)\n",
    "    lineCSV += \"\\n\"\n",
    "    outputFile.write(lineCSV)\n",
    "                       "
   ]
  },
  {
   "cell_type": "code",
   "execution_count": null,
   "metadata": {},
   "outputs": [],
   "source": [
    "# Close file and exit\n",
    "outputFile.close()"
   ]
  },
  {
   "cell_type": "code",
   "execution_count": null,
   "metadata": {
    "scrolled": false
   },
   "outputs": [],
   "source": [
    "# Create bar graph of enrollment distributions\n",
    "df = pd.read_csv('ClassEnrollment.csv')\n",
    "df.describe()\n",
    "df.groupby(\"Course ID\")[['Size', 'Cap']].sum().plot.bar()"
   ]
  },
  {
   "cell_type": "code",
   "execution_count": null,
   "metadata": {},
   "outputs": [],
   "source": []
  },
  {
   "cell_type": "code",
   "execution_count": null,
   "metadata": {},
   "outputs": [],
   "source": []
  }
 ],
 "metadata": {
  "kernelspec": {
   "display_name": "Python 3",
   "language": "python",
   "name": "python3"
  },
  "language_info": {
   "codemirror_mode": {
    "name": "ipython",
    "version": 3
   },
   "file_extension": ".py",
   "mimetype": "text/x-python",
   "name": "python",
   "nbconvert_exporter": "python",
   "pygments_lexer": "ipython3",
   "version": "3.7.7"
  }
 },
 "nbformat": 4,
 "nbformat_minor": 4
}
