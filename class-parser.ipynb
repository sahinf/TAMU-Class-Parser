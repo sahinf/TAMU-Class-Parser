{
 "cells": [
  {
   "cell_type": "code",
   "execution_count": 2,
   "metadata": {},
   "outputs": [],
   "source": [
    "import json\n",
    "import pandas as pd\n",
    "\n",
    "# Read file\n",
    "jsonFile = open('searchResults.json', 'r')\n",
    "jsonData = jsonFile.read()"
   ]
  },
  {
   "cell_type": "code",
   "execution_count": 3,
   "metadata": {},
   "outputs": [],
   "source": [
    "# Load the value that contains all relevant data\n",
    "jsonDict = json.loads(jsonData)\n",
    "dataDict = jsonDict['data']"
   ]
  },
  {
   "cell_type": "code",
   "execution_count": 4,
   "metadata": {
    "scrolled": true
   },
   "outputs": [],
   "source": [
    "# Open file for writing output\n",
    "outputFile = open(\"ClassEnrollment.csv\", \"w\")"
   ]
  },
  {
   "cell_type": "code",
   "execution_count": 5,
   "metadata": {},
   "outputs": [
    {
     "data": {
      "text/plain": [
       "65"
      ]
     },
     "execution_count": 5,
     "metadata": {},
     "output_type": "execute_result"
    }
   ],
   "source": [
    "# Begin by writing to the output .csv file the HEADERS\n",
    "outputFile.write(\"Course ID,Sec,Lab Days,Lab Time,Cap,Size,Rem,Instructor,Lab Room\\n\" )"
   ]
  },
  {
   "cell_type": "code",
   "execution_count": 6,
   "metadata": {},
   "outputs": [],
   "source": [
    "# Function to fill days for LEC, LAB, etc...\n",
    "# 'x' is the json object 'meetingTime'\n",
    "def add_days(x):\n",
    "    days = \"\"\n",
    "    \n",
    "    noDaysProvided = True\n",
    "    \n",
    "    # Add all present days and keep track of whether the lab has any days provided\n",
    "    if x['monday']:\n",
    "        days += \"M\"\n",
    "        noDaysProvided = False\n",
    "    if x['tuesday']:\n",
    "        days += \"T\"\n",
    "        noDaysProvided = False\n",
    "    if x['wednesday']:\n",
    "        days += \"W\"\n",
    "        noDaysProvided = False\n",
    "    if x['thursday']:\n",
    "        days += \"R\"\n",
    "        noDaysProvided = False\n",
    "    if x['friday']:\n",
    "        days += \"F\"\n",
    "        noDaysProvided = False\n",
    "    if x['saturday']:\n",
    "        days += \"S\"\n",
    "        noDaysProvided = False\n",
    "    if x['sunday']:\n",
    "        days += \"U\"\n",
    "        noDaysProvided = False\n",
    "    \n",
    "    # if the lab has no days, write N/A\n",
    "    if noDaysProvided:\n",
    "        days += \"N/A\"\n",
    "    \n",
    "    # Separate days from time for .csv\n",
    "    days += \",\"\n",
    "    \n",
    "    if x['beginTime']:\n",
    "        days += x[\"beginTime\"] + \" - \" + x[\"endTime\"]\n",
    "    else:\n",
    "        days += \"N/A\"\n",
    "    return days"
   ]
  },
  {
   "cell_type": "code",
   "execution_count": 7,
   "metadata": {},
   "outputs": [],
   "source": [
    "# Quick function to add lab days and times\n",
    "def add_lab(meetingsFaculty):\n",
    "    val = \"\"\n",
    "    \n",
    "    # search through all \"meetingTimes\" to find type \"LAB\"\n",
    "    for facultyObject in meetingsFaculty: \n",
    "        x = facultyObject[\"meetingTime\"]\n",
    "        if x[\"meetingType\"] == \"LAB\":\n",
    "            val += add_days(x)\n",
    "            return val\n",
    "    \n",
    "    # This course has no LAB so n/a for DAYS, TIMES\n",
    "    val += \"N/A,N/A\"\n",
    "    return val"
   ]
  },
  {
   "cell_type": "code",
   "execution_count": 8,
   "metadata": {},
   "outputs": [],
   "source": [
    "# Quick function to add lecture days and times\n",
    "def add_lec(meetingsFaculty):\n",
    "    val = \"\"\n",
    "    for facultyObject in meetingsFaculty:\n",
    "        x = facultyObject[\"meetingTime\"]\n",
    "        if x[\"meetingType\"] == \"LEC\":\n",
    "            val += add_days(x)\n",
    "            return val\n",
    "    \n",
    "    # This course has no LECTURE so n/a for DAYS, TIMES\n",
    "    val += \"N/A,N/A\"\n",
    "    return val"
   ]
  },
  {
   "cell_type": "code",
   "execution_count": 9,
   "metadata": {},
   "outputs": [],
   "source": [
    "# Function to fetch room number for labs because some classes do not have room number :)\n",
    "def add_room(meetingsFaculty):\n",
    "    room = \"\"\n",
    "    noLab = True\n",
    "    for facultyObject in meetingsFaculty:\n",
    "        x = facultyObject['meetingTime']\n",
    "        if (x['meetingType'] == 'LAB'):\n",
    "            noLab = False\n",
    "            if x['building'] == 'ONLINE':\n",
    "                room += \"ONLINE\"\n",
    "            elif x['building'] == None:\n",
    "                room += \"N/A\"\n",
    "            else:\n",
    "                room += x['building'] + \" \" + str(x['room'])\n",
    "            break\n",
    "    \n",
    "    # Course has no LAB so LAB_ROOM is N/A\n",
    "    if noLab:\n",
    "        room += \"N/A\"\n",
    "        \n",
    "    return room"
   ]
  },
  {
   "cell_type": "code",
   "execution_count": 10,
   "metadata": {},
   "outputs": [],
   "source": [
    "# Function to fetch instructor because some classes do not list a professor :)\n",
    "def add_prof(faculty):\n",
    "    prof = \"\"\n",
    "    for x in faculty:\n",
    "        prof += x['displayName'] if x['displayName'] else \"N/A\"\n",
    "        break\n",
    "    return prof"
   ]
  },
  {
   "cell_type": "code",
   "execution_count": 11,
   "metadata": {
    "scrolled": true
   },
   "outputs": [],
   "source": [
    "for classes in dataDict:\n",
    "    lineCSV = \",\".join([ classes[\"courseNumber\"]\n",
    "                        ,classes[\"sequenceNumber\"]\n",
    "                        ,add_lab(classes[\"meetingsFaculty\"])\n",
    "#                         ,add_lec(classes[\"meetingsFaculty\"])\n",
    "                        ,str(classes[\"maximumEnrollment\"])\n",
    "                        ,str(classes[\"enrollment\"])\n",
    "                        ,str(classes[\"seatsAvailable\"])\n",
    "                        ,add_prof(classes[\"faculty\"])\n",
    "                        ,add_room(classes[\"meetingsFaculty\"])\n",
    "                       ])\n",
    "    lineCSV += \"\\n\"\n",
    "    outputFile.write(lineCSV)\n",
    "    \n",
    "outputFile.close()"
   ]
  },
  {
   "cell_type": "code",
   "execution_count": 12,
   "metadata": {},
   "outputs": [],
   "source": [
    "# Close file and exit\n"
   ]
  },
  {
   "cell_type": "code",
   "execution_count": 13,
   "metadata": {
    "scrolled": false
   },
   "outputs": [
    {
     "data": {
      "text/plain": [
       "<AxesSubplot:xlabel='Course ID'>"
      ]
     },
     "execution_count": 13,
     "metadata": {},
     "output_type": "execute_result"
    },
    {
     "data": {
      "image/png": "[encoded data removed]",
      "text/plain": [
       "<Figure size 432x288 with 1 Axes>"
      ]
     },
     "metadata": {
      "needs_background": "light"
     },
     "output_type": "display_data"
    }
   ],
   "source": [
    "# Create bar graph of enrollment distributions\n",
    "df = pd.read_csv('ClassEnrollment.csv')\n",
    "df.describe()\n",
    "df.groupby(\"Course ID\")[['Size', 'Cap']].sum().plot.bar()"
   ]
  }
 ],
 "metadata": {
  "kernelspec": {
   "display_name": "Python 3",
   "language": "python",
   "name": "python3"
  },
  "language_info": {
   "codemirror_mode": {
    "name": "ipython",
    "version": 3
   },
   "file_extension": ".py",
   "mimetype": "text/x-python",
   "name": "python",
   "nbconvert_exporter": "python",
   "pygments_lexer": "ipython3",
   "version": "3.7.7"
  }
 },
 "nbformat": 4,
 "nbformat_minor": 4
}
